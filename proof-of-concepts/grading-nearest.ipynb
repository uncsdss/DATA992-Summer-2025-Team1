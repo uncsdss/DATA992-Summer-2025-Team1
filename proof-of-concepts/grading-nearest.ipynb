{
  "nbformat": 4,
  "nbformat_minor": 0,
  "metadata": {
    "colab": {
      "provenance": []
    },
    "kernelspec": {
      "name": "python3",
      "display_name": "Python 3"
    },
    "language_info": {
      "name": "python"
    },
    "widgets": {
      "application/vnd.jupyter.widget-state+json": {
        "b3f606e058ca46859e0eb9145009e6b1": {
          "model_module": "@jupyter-widgets/controls",
          "model_name": "HBoxModel",
          "model_module_version": "1.5.0",
          "state": {
            "_dom_classes": [],
            "_model_module": "@jupyter-widgets/controls",
            "_model_module_version": "1.5.0",
            "_model_name": "HBoxModel",
            "_view_count": null,
            "_view_module": "@jupyter-widgets/controls",
            "_view_module_version": "1.5.0",
            "_view_name": "HBoxView",
            "box_style": "",
            "children": [
              "IPY_MODEL_0e6c532b1551404c8b3231cd372ea18b",
              "IPY_MODEL_b0bdbf17259e45cca0a26707cfea0d0f",
              "IPY_MODEL_c45234561d36478798c50fa7ae8aaefc"
            ],
            "layout": "IPY_MODEL_44fe08719d63441d926136da13beaa10"
          }
        },
        "0e6c532b1551404c8b3231cd372ea18b": {
          "model_module": "@jupyter-widgets/controls",
          "model_name": "HTMLModel",
          "model_module_version": "1.5.0",
          "state": {
            "_dom_classes": [],
            "_model_module": "@jupyter-widgets/controls",
            "_model_module_version": "1.5.0",
            "_model_name": "HTMLModel",
            "_view_count": null,
            "_view_module": "@jupyter-widgets/controls",
            "_view_module_version": "1.5.0",
            "_view_name": "HTMLView",
            "description": "",
            "description_tooltip": null,
            "layout": "IPY_MODEL_7fa9dadfe4c94ef788cd5556b9629b69",
            "placeholder": "​",
            "style": "IPY_MODEL_ac63ba464bb840a8b5694294fc277b89",
            "value": "Batches: 100%"
          }
        },
        "b0bdbf17259e45cca0a26707cfea0d0f": {
          "model_module": "@jupyter-widgets/controls",
          "model_name": "FloatProgressModel",
          "model_module_version": "1.5.0",
          "state": {
            "_dom_classes": [],
            "_model_module": "@jupyter-widgets/controls",
            "_model_module_version": "1.5.0",
            "_model_name": "FloatProgressModel",
            "_view_count": null,
            "_view_module": "@jupyter-widgets/controls",
            "_view_module_version": "1.5.0",
            "_view_name": "ProgressView",
            "bar_style": "success",
            "description": "",
            "description_tooltip": null,
            "layout": "IPY_MODEL_c1c227ea93804e1bb0bb3198d0a0c6b2",
            "max": 318,
            "min": 0,
            "orientation": "horizontal",
            "style": "IPY_MODEL_acccedc3f1e24911921543ed3c8acb02",
            "value": 318
          }
        },
        "c45234561d36478798c50fa7ae8aaefc": {
          "model_module": "@jupyter-widgets/controls",
          "model_name": "HTMLModel",
          "model_module_version": "1.5.0",
          "state": {
            "_dom_classes": [],
            "_model_module": "@jupyter-widgets/controls",
            "_model_module_version": "1.5.0",
            "_model_name": "HTMLModel",
            "_view_count": null,
            "_view_module": "@jupyter-widgets/controls",
            "_view_module_version": "1.5.0",
            "_view_name": "HTMLView",
            "description": "",
            "description_tooltip": null,
            "layout": "IPY_MODEL_a86798436e134e6dbd4a04c5799f531d",
            "placeholder": "​",
            "style": "IPY_MODEL_4d42be988a8542aa8f9223d1e7735062",
            "value": " 318/318 [04:12&lt;00:00, 10.87it/s]"
          }
        },
        "44fe08719d63441d926136da13beaa10": {
          "model_module": "@jupyter-widgets/base",
          "model_name": "LayoutModel",
          "model_module_version": "1.2.0",
          "state": {
            "_model_module": "@jupyter-widgets/base",
            "_model_module_version": "1.2.0",
            "_model_name": "LayoutModel",
            "_view_count": null,
            "_view_module": "@jupyter-widgets/base",
            "_view_module_version": "1.2.0",
            "_view_name": "LayoutView",
            "align_content": null,
            "align_items": null,
            "align_self": null,
            "border": null,
            "bottom": null,
            "display": null,
            "flex": null,
            "flex_flow": null,
            "grid_area": null,
            "grid_auto_columns": null,
            "grid_auto_flow": null,
            "grid_auto_rows": null,
            "grid_column": null,
            "grid_gap": null,
            "grid_row": null,
            "grid_template_areas": null,
            "grid_template_columns": null,
            "grid_template_rows": null,
            "height": null,
            "justify_content": null,
            "justify_items": null,
            "left": null,
            "margin": null,
            "max_height": null,
            "max_width": null,
            "min_height": null,
            "min_width": null,
            "object_fit": null,
            "object_position": null,
            "order": null,
            "overflow": null,
            "overflow_x": null,
            "overflow_y": null,
            "padding": null,
            "right": null,
            "top": null,
            "visibility": null,
            "width": null
          }
        },
        "7fa9dadfe4c94ef788cd5556b9629b69": {
          "model_module": "@jupyter-widgets/base",
          "model_name": "LayoutModel",
          "model_module_version": "1.2.0",
          "state": {
            "_model_module": "@jupyter-widgets/base",
            "_model_module_version": "1.2.0",
            "_model_name": "LayoutModel",
            "_view_count": null,
            "_view_module": "@jupyter-widgets/base",
            "_view_module_version": "1.2.0",
            "_view_name": "LayoutView",
            "align_content": null,
            "align_items": null,
            "align_self": null,
            "border": null,
            "bottom": null,
            "display": null,
            "flex": null,
            "flex_flow": null,
            "grid_area": null,
            "grid_auto_columns": null,
            "grid_auto_flow": null,
            "grid_auto_rows": null,
            "grid_column": null,
            "grid_gap": null,
            "grid_row": null,
            "grid_template_areas": null,
            "grid_template_columns": null,
            "grid_template_rows": null,
            "height": null,
            "justify_content": null,
            "justify_items": null,
            "left": null,
            "margin": null,
            "max_height": null,
            "max_width": null,
            "min_height": null,
            "min_width": null,
            "object_fit": null,
            "object_position": null,
            "order": null,
            "overflow": null,
            "overflow_x": null,
            "overflow_y": null,
            "padding": null,
            "right": null,
            "top": null,
            "visibility": null,
            "width": null
          }
        },
        "ac63ba464bb840a8b5694294fc277b89": {
          "model_module": "@jupyter-widgets/controls",
          "model_name": "DescriptionStyleModel",
          "model_module_version": "1.5.0",
          "state": {
            "_model_module": "@jupyter-widgets/controls",
            "_model_module_version": "1.5.0",
            "_model_name": "DescriptionStyleModel",
            "_view_count": null,
            "_view_module": "@jupyter-widgets/base",
            "_view_module_version": "1.2.0",
            "_view_name": "StyleView",
            "description_width": ""
          }
        },
        "c1c227ea93804e1bb0bb3198d0a0c6b2": {
          "model_module": "@jupyter-widgets/base",
          "model_name": "LayoutModel",
          "model_module_version": "1.2.0",
          "state": {
            "_model_module": "@jupyter-widgets/base",
            "_model_module_version": "1.2.0",
            "_model_name": "LayoutModel",
            "_view_count": null,
            "_view_module": "@jupyter-widgets/base",
            "_view_module_version": "1.2.0",
            "_view_name": "LayoutView",
            "align_content": null,
            "align_items": null,
            "align_self": null,
            "border": null,
            "bottom": null,
            "display": null,
            "flex": null,
            "flex_flow": null,
            "grid_area": null,
            "grid_auto_columns": null,
            "grid_auto_flow": null,
            "grid_auto_rows": null,
            "grid_column": null,
            "grid_gap": null,
            "grid_row": null,
            "grid_template_areas": null,
            "grid_template_columns": null,
            "grid_template_rows": null,
            "height": null,
            "justify_content": null,
            "justify_items": null,
            "left": null,
            "margin": null,
            "max_height": null,
            "max_width": null,
            "min_height": null,
            "min_width": null,
            "object_fit": null,
            "object_position": null,
            "order": null,
            "overflow": null,
            "overflow_x": null,
            "overflow_y": null,
            "padding": null,
            "right": null,
            "top": null,
            "visibility": null,
            "width": null
          }
        },
        "acccedc3f1e24911921543ed3c8acb02": {
          "model_module": "@jupyter-widgets/controls",
          "model_name": "ProgressStyleModel",
          "model_module_version": "1.5.0",
          "state": {
            "_model_module": "@jupyter-widgets/controls",
            "_model_module_version": "1.5.0",
            "_model_name": "ProgressStyleModel",
            "_view_count": null,
            "_view_module": "@jupyter-widgets/base",
            "_view_module_version": "1.2.0",
            "_view_name": "StyleView",
            "bar_color": null,
            "description_width": ""
          }
        },
        "a86798436e134e6dbd4a04c5799f531d": {
          "model_module": "@jupyter-widgets/base",
          "model_name": "LayoutModel",
          "model_module_version": "1.2.0",
          "state": {
            "_model_module": "@jupyter-widgets/base",
            "_model_module_version": "1.2.0",
            "_model_name": "LayoutModel",
            "_view_count": null,
            "_view_module": "@jupyter-widgets/base",
            "_view_module_version": "1.2.0",
            "_view_name": "LayoutView",
            "align_content": null,
            "align_items": null,
            "align_self": null,
            "border": null,
            "bottom": null,
            "display": null,
            "flex": null,
            "flex_flow": null,
            "grid_area": null,
            "grid_auto_columns": null,
            "grid_auto_flow": null,
            "grid_auto_rows": null,
            "grid_column": null,
            "grid_gap": null,
            "grid_row": null,
            "grid_template_areas": null,
            "grid_template_columns": null,
            "grid_template_rows": null,
            "height": null,
            "justify_content": null,
            "justify_items": null,
            "left": null,
            "margin": null,
            "max_height": null,
            "max_width": null,
            "min_height": null,
            "min_width": null,
            "object_fit": null,
            "object_position": null,
            "order": null,
            "overflow": null,
            "overflow_x": null,
            "overflow_y": null,
            "padding": null,
            "right": null,
            "top": null,
            "visibility": null,
            "width": null
          }
        },
        "4d42be988a8542aa8f9223d1e7735062": {
          "model_module": "@jupyter-widgets/controls",
          "model_name": "DescriptionStyleModel",
          "model_module_version": "1.5.0",
          "state": {
            "_model_module": "@jupyter-widgets/controls",
            "_model_module_version": "1.5.0",
            "_model_name": "DescriptionStyleModel",
            "_view_count": null,
            "_view_module": "@jupyter-widgets/base",
            "_view_module_version": "1.2.0",
            "_view_name": "StyleView",
            "description_width": ""
          }
        }
      }
    }
  },
  "cells": [
    {
      "cell_type": "code",
      "execution_count": null,
      "metadata": {
        "colab": {
          "base_uri": "https://localhost:8080/"
        },
        "id": "bmIuUoZaDQYR",
        "outputId": "f91536df-9d6f-453f-bfe6-9be7a336a407"
      },
      "outputs": [
        {
          "output_type": "stream",
          "name": "stdout",
          "text": [
            "Cloning into 'bluexp-automation'...\n",
            "remote: Enumerating objects: 5063, done.\u001b[K\n",
            "remote: Counting objects: 100% (694/694), done.\u001b[K\n",
            "remote: Compressing objects: 100% (321/321), done.\u001b[K\n",
            "remote: Total 5063 (delta 432), reused 549 (delta 369), pack-reused 4369 (from 1)\u001b[K\n",
            "Receiving objects: 100% (5063/5063), 2.78 MiB | 6.62 MiB/s, done.\n",
            "Resolving deltas: 100% (3425/3425), done.\n"
          ]
        }
      ],
      "source": [
        "!git clone https://github.com/NetAppDocs/bluexp-automation.git\n"
      ]
    },
    {
      "cell_type": "code",
      "source": [
        "cd bluexp-automation\n"
      ],
      "metadata": {
        "colab": {
          "base_uri": "https://localhost:8080/"
        },
        "id": "mNQTuc6kDdCX",
        "outputId": "e7f638d2-5891-40bc-857f-2831b5b873a5"
      },
      "execution_count": null,
      "outputs": [
        {
          "output_type": "stream",
          "name": "stdout",
          "text": [
            "/content/bluexp-automation\n"
          ]
        }
      ]
    },
    {
      "cell_type": "code",
      "source": [
        "!pip install faiss-cpu"
      ],
      "metadata": {
        "colab": {
          "base_uri": "https://localhost:8080/"
        },
        "id": "azHfme5Xiv1E",
        "outputId": "1e010a0d-4fc8-4e6c-a276-d006e168c4df"
      },
      "execution_count": null,
      "outputs": [
        {
          "output_type": "stream",
          "name": "stdout",
          "text": [
            "Collecting faiss-cpu\n",
            "  Downloading faiss_cpu-1.11.0-cp311-cp311-manylinux_2_28_x86_64.whl.metadata (4.8 kB)\n",
            "Requirement already satisfied: numpy<3.0,>=1.25.0 in /usr/local/lib/python3.11/dist-packages (from faiss-cpu) (2.0.2)\n",
            "Requirement already satisfied: packaging in /usr/local/lib/python3.11/dist-packages (from faiss-cpu) (24.2)\n",
            "Downloading faiss_cpu-1.11.0-cp311-cp311-manylinux_2_28_x86_64.whl (31.3 MB)\n",
            "\u001b[2K   \u001b[90m━━━━━━━━━━━━━━━━━━━━━━━━━━━━━━━━━━━━━━━━\u001b[0m \u001b[32m31.3/31.3 MB\u001b[0m \u001b[31m57.7 MB/s\u001b[0m eta \u001b[36m0:00:00\u001b[0m\n",
            "\u001b[?25hInstalling collected packages: faiss-cpu\n",
            "Successfully installed faiss-cpu-1.11.0\n"
          ]
        }
      ]
    },
    {
      "cell_type": "code",
      "source": [
        "!find . -type f -name \"*.adoc\" | wc -l\n"
      ],
      "metadata": {
        "colab": {
          "base_uri": "https://localhost:8080/"
        },
        "id": "yvGo9xhADgAW",
        "outputId": "df6adaa5-5db8-4267-f202-0cb858626a3d"
      },
      "execution_count": null,
      "outputs": [
        {
          "output_type": "stream",
          "name": "stdout",
          "text": [
            "158\n"
          ]
        }
      ]
    },
    {
      "cell_type": "code",
      "source": [
        "import os\n",
        "print(os.getcwd())\n"
      ],
      "metadata": {
        "colab": {
          "base_uri": "https://localhost:8080/"
        },
        "id": "FyrnG7Knkz6r",
        "outputId": "07dbc418-6a75-4bd1-96db-9801eaed9205"
      },
      "execution_count": null,
      "outputs": [
        {
          "output_type": "stream",
          "name": "stdout",
          "text": [
            "/content/bluexp-automation\n"
          ]
        }
      ]
    },
    {
      "cell_type": "code",
      "source": [
        "!find . -name \"*.adoc\""
      ],
      "metadata": {
        "colab": {
          "base_uri": "https://localhost:8080/"
        },
        "id": "E8b9CIzWk3RT",
        "outputId": "da06ace5-1720-4966-bb65-b0247fd54918"
      },
      "execution_count": null,
      "outputs": [
        {
          "output_type": "stream",
          "name": "stdout",
          "text": [
            "./cm/wf_common_ontap_repl_get_rel_status.adoc\n",
            "./cm/wf_gcp_cloud_md_get_vpcs.adoc\n",
            "./cm/wf_aws_ontap_modify_volume.adoc\n",
            "./cm/wf_common_identity_get_supported_srv.adoc\n",
            "./cm/wf_azure_cloud_delete_we.adoc\n",
            "./cm/wf_aws_ontap_add_disks_aggr.adoc\n",
            "./cm/wf_aws_cloud_md_create_account.adoc\n",
            "./cm/wf_common_ontap_repl_get_rel_we_status.adoc\n",
            "./cm/prepare.adoc\n",
            "./cm/wf_gcp_cloud_md_get_projects.adoc\n",
            "./cm/wf_onprem_get_wes.adoc\n",
            "./cm/wf_gcp_cloud_md_get_disk_types.adoc\n",
            "./cm/wf_cvo_before.adoc\n",
            "./cm/wf_aws_ontap_create_vol_cifs.adoc\n",
            "./cm/wf_aws_ontap_delete_cifs.adoc\n",
            "./cm/wf_azure_ontap_delete_cifs.adoc\n",
            "./cm/api_ref_resources.adoc\n",
            "./cm/wf_azure_ontap_create_cifs.adoc\n",
            "./cm/wf_onprem_ontap_delete_volume.adoc\n",
            "./cm/wf_common_identity_get_nss_key.adoc\n",
            "./cm/wf_azure_cloud_md_create_account.adoc\n",
            "./cm/api_reference.adoc\n",
            "./cm/wf_azure_cloud_md_get_vnets.adoc\n",
            "./cm/wf_aws_ontap_get_volumes.adoc\n",
            "./cm/cvo_deployment.adoc\n",
            "./cm/wf_azure_cloud_md_get_permutations.adoc\n",
            "./cm/wf_gcp_cloud_get_wes.adoc\n",
            "./cm/wf_gcp_ontap_modify_volume.adoc\n",
            "./cm/wf_aws_cloud_md_get_regions.adoc\n",
            "./cm/wf_gcp_ontap_get_aggrs.adoc\n",
            "./cm/wf_gcp_cloud_md_get_supported_tiers.adoc\n",
            "./cm/wf_aws_ontap_create_vol_nfs.adoc\n",
            "./cm/workflow_processes.adoc\n",
            "./cm/wf_gcp_cloud_md_get_regions.adoc\n",
            "./cm/wf_common_ontap_repl_create_repl.adoc\n",
            "./cm/wf_aws_cloud_add_capacity.adoc\n",
            "./cm/wf_azure_ontap_get_cifs.adoc\n",
            "./cm/wf_common_ontap_md_get_snapmirror_policies.adoc\n",
            "./cm/wf_common_identity_get_tenants.adoc\n",
            "./cm/wf_gcp_ontap_delete_aggr.adoc\n",
            "./cm/wf_azure_ontap_delete_aggr.adoc\n",
            "./cm/wf_azure_ontap_create_vol_cifs.adoc\n",
            "./cm/api_ref_definitions.adoc\n",
            "./cm/wf_common_occm_get_task.adoc\n",
            "./cm/wf_azure_ontap_get_igroups.adoc\n",
            "./cm/wf_aws_cloud_delete_we.adoc\n",
            "./cm/wf_gcp_cloud_create_we_capacity.adoc\n",
            "./cm/wf_common_ontap_repl_get_sm_rels.adoc\n",
            "./cm/wf_onprem_ontap_get_aggrs.adoc\n",
            "./cm/wf_aws_cloud_md_get_vpcs.adoc\n",
            "./cm/wf_onprem_before.adoc\n",
            "./cm/wf_gcp_ontap_create_vol_cifs.adoc\n",
            "./cm/wf_gcp_ontap_create_vol_nfs.adoc\n",
            "./cm/wf_azure_ontap_add_disks_aggr.adoc\n",
            "./cm/overview.adoc\n",
            "./cm/wf_onprem_ontap_get_volumes.adoc\n",
            "./cm/wf_gcp_cloud_md_snapshot_policies.adoc\n",
            "./cm/wf_aws_cloud_md_get_packages.adoc\n",
            "./cm/wf_gcp_ontap_create_vol_iscsi.adoc\n",
            "./cm/wf_azure_cloud_md_get_regions.adoc\n",
            "./cm/wf_gcp_cloud_delete_we.adoc\n",
            "./cm/wf_azure_ontap_create_aggr.adoc\n",
            "./cm/wf_common_occm_attach_subscription.adoc\n",
            "./cm/wf_aws_ontap_get_aggrs.adoc\n",
            "./cm/wf_aws_cloud_create_we_capacity.adoc\n",
            "./cm/wf_gcp_ontap_get_volumes.adoc\n",
            "./cm/wf_aws_ontap_delete_aggr.adoc\n",
            "./cm/wf_gcp_cloud_md_get_packages.adoc\n",
            "./cm/wf_azure_ontap_modify_volume.adoc\n",
            "./cm/wf_aws_ontap_get_igroups.adoc\n",
            "./cm/wf_gcp_cloud_md_get_permutations.adoc\n",
            "./cm/wf_azure_cloud_md_get_availability_zones.adoc\n",
            "./cm/wf_aws_ontap_create_cifs.adoc\n",
            "./cm/wf_aws_cloud_md_get_permutations.adoc\n",
            "./cm/wf_onprem_ontap_get_cifs.adoc\n",
            "./cm/wf_gcp_ontap_create_aggr.adoc\n",
            "./cm/wf_azure_ontap_create_vol_nfs.adoc\n",
            "./cm/wf_gcp_ontap_create_quote.adoc\n",
            "./cm/wf_gcp_ontap_get_igroups.adoc\n",
            "./cm/wf_aws_ontap_create_vol_iscsi.adoc\n",
            "./cm/wf_common_ontap_repl_get_we_schedules.adoc\n",
            "./cm/wf_azure_ontap_create_vol_iscsi.adoc\n",
            "./cm/wf_azure_ontap_create_quote.adoc\n",
            "./cm/wf_gcp_cloud_md_get_encryption_keys.adoc\n",
            "./cm/security.adoc\n",
            "./cm/wf_gcp_ontap_delete_volume.adoc\n",
            "./cm/wf_onprem_ontap_create_vol_cifs.adoc\n",
            "./cm/wf_gcp_cloud_md_get_network_requirements.adoc\n",
            "./cm/wf_azure_cloud_create_we_byol.adoc\n",
            "./cm/wf_common_identity_delete_nss_key.adoc\n",
            "./cm/wf_common_identity_create_nss_key.adoc\n",
            "./cm/wf_azure_ontap_delete_volume.adoc\n",
            "./cm/wf_common_before.adoc\n",
            "./cm/wf_aws_cloud_md_get_ebs_vol_types.adoc\n",
            "./cm/wf_azure_ontap_get_aggrs.adoc\n",
            "./cm/wf_azure_cloud_get_wes.adoc\n",
            "./cm/wf_aws_cloud_create_we_byol.adoc\n",
            "./cm/wf_onprem_ontap_modify_volume.adoc\n",
            "./cm/wf_common_ontap_repl_get_ic_lifs.adoc\n",
            "./cm/wf_common_identity_get_accounts.adoc\n",
            "./cm/wf_onprem_ontap_create_vol_iscsi.adoc\n",
            "./cm/wf_common_identity_get_nss_keys.adoc\n",
            "./cm/wf_common_ontap_repl_update_repl.adoc\n",
            "./cm/wf_azure_cloud_md_get_packages.adoc\n",
            "./cm/wf_azure_cloud_create_we_capacity.adoc\n",
            "./cm/wf_gcp_cloud_md_get_instance_type_nosupport.adoc\n",
            "./cm/wf_gcp_ontap_get_cifs.adoc\n",
            "./cm/wf_gcp_ontap_delete_cifs.adoc\n",
            "./cm/wf_common_identity_get_saas_mp.adoc\n",
            "./cm/wf_gcp_cloud_md_get_tag_keys.adoc\n",
            "./cm/wf_azure_ontap_get_volumes.adoc\n",
            "./cm/wf_aws_cloud_create_we_paygo.adoc\n",
            "./cm/wf_gcp_cloud_md_create_buckets.adoc\n",
            "./cm/wf_azure_cloud_md_get_storage_account_types.adoc\n",
            "./cm/wf_gcp_cloud_md_get_buckets.adoc\n",
            "./cm/wf_gcp_cloud_md_get_service_accounts.adoc\n",
            "./cm/wf_onprem_discover_wes.adoc\n",
            "./cm/wf_aws_cloud_md_get_route_tables.adoc\n",
            "./cm/wf_aws_cloud_get_wes.adoc\n",
            "./cm/wf_gcp_cloud_md_get_supported_features.adoc\n",
            "./cm/wf_aws_ontap_create_aggr.adoc\n",
            "./cm/wf_aws_ontap_delete_volume.adoc\n",
            "./cm/wf_azuregcp_ontap_create_aggr.adoc\n",
            "./cm/wf_gcp_ontap_add_disks_aggr.adoc\n",
            "./cm/wf_aws_ontap_get_cifs.adoc\n",
            "./cm/wf_azure_cloud_create_we_paygo.adoc\n",
            "./cm/wf_common_identity_get_provider_accounts.adoc\n",
            "./cm/wf_onprem_flexgroup_ontap_create_vol.adoc\n",
            "./cm/your_api_call.adoc\n",
            "./cm/wf_onprem_ontap_create_vol_nfs.adoc\n",
            "./cm/wf_aws_cloud_md_get_key_pairs.adoc\n",
            "./cm/wf_aws_ontap_create_quote.adoc\n",
            "./cm/wf_common_ontap_repl_delete_repl.adoc\n",
            "./cm/wf_gcp_cloud_create_we_paygo.adoc\n",
            "./cm/wf_gcp_ontap_create_cifs.adoc\n",
            "./cm/wf_common_ontap_md_get_snapmirror_svm_policies.adoc\n",
            "./cm/wf_gcp_cloud_md_get_zones.adoc\n",
            "./cm/wf_gcp_cloud_create_we_byol.adoc\n",
            "./support/additional_resources.adoc\n",
            "./automate/overview.adoc\n",
            "./automate/blogs.adoc\n",
            "./platform/additional_considerations.adoc\n",
            "./platform/register_service.adoc\n",
            "./platform/connectors_clients.adoc\n",
            "./platform/get_identifiers.adoc\n",
            "./platform/overview.adoc\n",
            "./platform/api_explorer.adoc\n",
            "./platform/create_user_token.adoc\n",
            "./platform/concepts.adoc\n",
            "./platform/workflows_tasks.adoc\n",
            "./platform/use_rest_apis.adoc\n",
            "./platform/grant_types.adoc\n",
            "./platform/create_service_token.adoc\n",
            "./platform/get_nss_key.adoc\n",
            "./platform/aa_concepts.adoc\n",
            "./platform/http_details.adoc\n",
            "./platform/user_access_tokens.adoc\n",
            "./legal-notices.adoc\n"
          ]
        }
      ]
    },
    {
      "cell_type": "code",
      "source": [
        "import os\n",
        "import faiss\n",
        "import numpy as np"
      ],
      "metadata": {
        "id": "fySvxhUXidcx"
      },
      "execution_count": null,
      "outputs": []
    },
    {
      "cell_type": "code",
      "source": [
        "\n",
        "# Step 1: Collect .adoc files\n",
        "adoc_files = []\n",
        "adoc_count = 0\n",
        "\n",
        "for root, dirs, files in os.walk(\".\"):\n",
        "    for file in files:\n",
        "        if file.endswith(\".adoc\"):\n",
        "            adoc_count += 1\n",
        "            path = os.path.join(root, file)\n",
        "            adoc_files.append(path)\n",
        "            print(\"✅ Found:\", path)\n",
        "\n",
        "print(f\"\\nTotal .adoc files found: {adoc_count}\")\n",
        "print(f\"\\nTotal .adoc files found: {adoc_count}\")\n",
        "# Step 2: Read and chunk text\n",
        "document_chunks = []\n",
        "for filepath in adoc_files:\n",
        "    with open(filepath, 'r', encoding='utf-8', errors='ignore') as f:\n",
        "        content = f.read()\n",
        "        # Basic chunking by paragraphs (or customize as needed)\n",
        "        chunks = content.split('\\n\\n')  # you could also use spaCy for sentence chunking\n",
        "        document_chunks.extend([chunk.strip() for chunk in chunks if chunk.strip()])\n"
      ],
      "metadata": {
        "colab": {
          "base_uri": "https://localhost:8080/"
        },
        "id": "RHtPOyC8ia7t",
        "outputId": "affd7e44-b596-4edb-dec9-a0b5cfc243f9"
      },
      "execution_count": null,
      "outputs": [
        {
          "output_type": "stream",
          "name": "stdout",
          "text": [
            "✅ Found: ./legal-notices.adoc\n",
            "✅ Found: ./cm/wf_common_ontap_repl_get_rel_status.adoc\n",
            "✅ Found: ./cm/wf_gcp_cloud_md_get_vpcs.adoc\n",
            "✅ Found: ./cm/wf_aws_ontap_modify_volume.adoc\n",
            "✅ Found: ./cm/wf_common_identity_get_supported_srv.adoc\n",
            "✅ Found: ./cm/wf_azure_cloud_delete_we.adoc\n",
            "✅ Found: ./cm/wf_aws_ontap_add_disks_aggr.adoc\n",
            "✅ Found: ./cm/wf_aws_cloud_md_create_account.adoc\n",
            "✅ Found: ./cm/wf_common_ontap_repl_get_rel_we_status.adoc\n",
            "✅ Found: ./cm/prepare.adoc\n",
            "✅ Found: ./cm/wf_gcp_cloud_md_get_projects.adoc\n",
            "✅ Found: ./cm/wf_onprem_get_wes.adoc\n",
            "✅ Found: ./cm/wf_gcp_cloud_md_get_disk_types.adoc\n",
            "✅ Found: ./cm/wf_cvo_before.adoc\n",
            "✅ Found: ./cm/wf_aws_ontap_create_vol_cifs.adoc\n",
            "✅ Found: ./cm/wf_aws_ontap_delete_cifs.adoc\n",
            "✅ Found: ./cm/wf_azure_ontap_delete_cifs.adoc\n",
            "✅ Found: ./cm/api_ref_resources.adoc\n",
            "✅ Found: ./cm/wf_azure_ontap_create_cifs.adoc\n",
            "✅ Found: ./cm/wf_onprem_ontap_delete_volume.adoc\n",
            "✅ Found: ./cm/wf_common_identity_get_nss_key.adoc\n",
            "✅ Found: ./cm/wf_azure_cloud_md_create_account.adoc\n",
            "✅ Found: ./cm/api_reference.adoc\n",
            "✅ Found: ./cm/wf_azure_cloud_md_get_vnets.adoc\n",
            "✅ Found: ./cm/wf_aws_ontap_get_volumes.adoc\n",
            "✅ Found: ./cm/cvo_deployment.adoc\n",
            "✅ Found: ./cm/wf_azure_cloud_md_get_permutations.adoc\n",
            "✅ Found: ./cm/wf_gcp_cloud_get_wes.adoc\n",
            "✅ Found: ./cm/wf_gcp_ontap_modify_volume.adoc\n",
            "✅ Found: ./cm/wf_aws_cloud_md_get_regions.adoc\n",
            "✅ Found: ./cm/wf_gcp_ontap_get_aggrs.adoc\n",
            "✅ Found: ./cm/wf_gcp_cloud_md_get_supported_tiers.adoc\n",
            "✅ Found: ./cm/wf_aws_ontap_create_vol_nfs.adoc\n",
            "✅ Found: ./cm/workflow_processes.adoc\n",
            "✅ Found: ./cm/wf_gcp_cloud_md_get_regions.adoc\n",
            "✅ Found: ./cm/wf_common_ontap_repl_create_repl.adoc\n",
            "✅ Found: ./cm/wf_aws_cloud_add_capacity.adoc\n",
            "✅ Found: ./cm/wf_azure_ontap_get_cifs.adoc\n",
            "✅ Found: ./cm/wf_common_ontap_md_get_snapmirror_policies.adoc\n",
            "✅ Found: ./cm/wf_common_identity_get_tenants.adoc\n",
            "✅ Found: ./cm/wf_gcp_ontap_delete_aggr.adoc\n",
            "✅ Found: ./cm/wf_azure_ontap_delete_aggr.adoc\n",
            "✅ Found: ./cm/wf_azure_ontap_create_vol_cifs.adoc\n",
            "✅ Found: ./cm/api_ref_definitions.adoc\n",
            "✅ Found: ./cm/wf_common_occm_get_task.adoc\n",
            "✅ Found: ./cm/wf_azure_ontap_get_igroups.adoc\n",
            "✅ Found: ./cm/wf_aws_cloud_delete_we.adoc\n",
            "✅ Found: ./cm/wf_gcp_cloud_create_we_capacity.adoc\n",
            "✅ Found: ./cm/wf_common_ontap_repl_get_sm_rels.adoc\n",
            "✅ Found: ./cm/wf_onprem_ontap_get_aggrs.adoc\n",
            "✅ Found: ./cm/wf_aws_cloud_md_get_vpcs.adoc\n",
            "✅ Found: ./cm/wf_onprem_before.adoc\n",
            "✅ Found: ./cm/wf_gcp_ontap_create_vol_cifs.adoc\n",
            "✅ Found: ./cm/wf_gcp_ontap_create_vol_nfs.adoc\n",
            "✅ Found: ./cm/wf_azure_ontap_add_disks_aggr.adoc\n",
            "✅ Found: ./cm/overview.adoc\n",
            "✅ Found: ./cm/wf_onprem_ontap_get_volumes.adoc\n",
            "✅ Found: ./cm/wf_gcp_cloud_md_snapshot_policies.adoc\n",
            "✅ Found: ./cm/wf_aws_cloud_md_get_packages.adoc\n",
            "✅ Found: ./cm/wf_gcp_ontap_create_vol_iscsi.adoc\n",
            "✅ Found: ./cm/wf_azure_cloud_md_get_regions.adoc\n",
            "✅ Found: ./cm/wf_gcp_cloud_delete_we.adoc\n",
            "✅ Found: ./cm/wf_azure_ontap_create_aggr.adoc\n",
            "✅ Found: ./cm/wf_common_occm_attach_subscription.adoc\n",
            "✅ Found: ./cm/wf_aws_ontap_get_aggrs.adoc\n",
            "✅ Found: ./cm/wf_aws_cloud_create_we_capacity.adoc\n",
            "✅ Found: ./cm/wf_gcp_ontap_get_volumes.adoc\n",
            "✅ Found: ./cm/wf_aws_ontap_delete_aggr.adoc\n",
            "✅ Found: ./cm/wf_gcp_cloud_md_get_packages.adoc\n",
            "✅ Found: ./cm/wf_azure_ontap_modify_volume.adoc\n",
            "✅ Found: ./cm/wf_aws_ontap_get_igroups.adoc\n",
            "✅ Found: ./cm/wf_gcp_cloud_md_get_permutations.adoc\n",
            "✅ Found: ./cm/wf_azure_cloud_md_get_availability_zones.adoc\n",
            "✅ Found: ./cm/wf_aws_ontap_create_cifs.adoc\n",
            "✅ Found: ./cm/wf_aws_cloud_md_get_permutations.adoc\n",
            "✅ Found: ./cm/wf_onprem_ontap_get_cifs.adoc\n",
            "✅ Found: ./cm/wf_gcp_ontap_create_aggr.adoc\n",
            "✅ Found: ./cm/wf_azure_ontap_create_vol_nfs.adoc\n",
            "✅ Found: ./cm/wf_gcp_ontap_create_quote.adoc\n",
            "✅ Found: ./cm/wf_gcp_ontap_get_igroups.adoc\n",
            "✅ Found: ./cm/wf_aws_ontap_create_vol_iscsi.adoc\n",
            "✅ Found: ./cm/wf_common_ontap_repl_get_we_schedules.adoc\n",
            "✅ Found: ./cm/wf_azure_ontap_create_vol_iscsi.adoc\n",
            "✅ Found: ./cm/wf_azure_ontap_create_quote.adoc\n",
            "✅ Found: ./cm/wf_gcp_cloud_md_get_encryption_keys.adoc\n",
            "✅ Found: ./cm/security.adoc\n",
            "✅ Found: ./cm/wf_gcp_ontap_delete_volume.adoc\n",
            "✅ Found: ./cm/wf_onprem_ontap_create_vol_cifs.adoc\n",
            "✅ Found: ./cm/wf_gcp_cloud_md_get_network_requirements.adoc\n",
            "✅ Found: ./cm/wf_azure_cloud_create_we_byol.adoc\n",
            "✅ Found: ./cm/wf_common_identity_delete_nss_key.adoc\n",
            "✅ Found: ./cm/wf_common_identity_create_nss_key.adoc\n",
            "✅ Found: ./cm/wf_azure_ontap_delete_volume.adoc\n",
            "✅ Found: ./cm/wf_common_before.adoc\n",
            "✅ Found: ./cm/wf_aws_cloud_md_get_ebs_vol_types.adoc\n",
            "✅ Found: ./cm/wf_azure_ontap_get_aggrs.adoc\n",
            "✅ Found: ./cm/wf_azure_cloud_get_wes.adoc\n",
            "✅ Found: ./cm/wf_aws_cloud_create_we_byol.adoc\n",
            "✅ Found: ./cm/wf_onprem_ontap_modify_volume.adoc\n",
            "✅ Found: ./cm/wf_common_ontap_repl_get_ic_lifs.adoc\n",
            "✅ Found: ./cm/wf_common_identity_get_accounts.adoc\n",
            "✅ Found: ./cm/wf_onprem_ontap_create_vol_iscsi.adoc\n",
            "✅ Found: ./cm/wf_common_identity_get_nss_keys.adoc\n",
            "✅ Found: ./cm/wf_common_ontap_repl_update_repl.adoc\n",
            "✅ Found: ./cm/wf_azure_cloud_md_get_packages.adoc\n",
            "✅ Found: ./cm/wf_azure_cloud_create_we_capacity.adoc\n",
            "✅ Found: ./cm/wf_gcp_cloud_md_get_instance_type_nosupport.adoc\n",
            "✅ Found: ./cm/wf_gcp_ontap_get_cifs.adoc\n",
            "✅ Found: ./cm/wf_gcp_ontap_delete_cifs.adoc\n",
            "✅ Found: ./cm/wf_common_identity_get_saas_mp.adoc\n",
            "✅ Found: ./cm/wf_gcp_cloud_md_get_tag_keys.adoc\n",
            "✅ Found: ./cm/wf_azure_ontap_get_volumes.adoc\n",
            "✅ Found: ./cm/wf_aws_cloud_create_we_paygo.adoc\n",
            "✅ Found: ./cm/wf_gcp_cloud_md_create_buckets.adoc\n",
            "✅ Found: ./cm/wf_azure_cloud_md_get_storage_account_types.adoc\n",
            "✅ Found: ./cm/wf_gcp_cloud_md_get_buckets.adoc\n",
            "✅ Found: ./cm/wf_gcp_cloud_md_get_service_accounts.adoc\n",
            "✅ Found: ./cm/wf_onprem_discover_wes.adoc\n",
            "✅ Found: ./cm/wf_aws_cloud_md_get_route_tables.adoc\n",
            "✅ Found: ./cm/wf_aws_cloud_get_wes.adoc\n",
            "✅ Found: ./cm/wf_gcp_cloud_md_get_supported_features.adoc\n",
            "✅ Found: ./cm/wf_aws_ontap_create_aggr.adoc\n",
            "✅ Found: ./cm/wf_aws_ontap_delete_volume.adoc\n",
            "✅ Found: ./cm/wf_azuregcp_ontap_create_aggr.adoc\n",
            "✅ Found: ./cm/wf_gcp_ontap_add_disks_aggr.adoc\n",
            "✅ Found: ./cm/wf_aws_ontap_get_cifs.adoc\n",
            "✅ Found: ./cm/wf_azure_cloud_create_we_paygo.adoc\n",
            "✅ Found: ./cm/wf_common_identity_get_provider_accounts.adoc\n",
            "✅ Found: ./cm/wf_onprem_flexgroup_ontap_create_vol.adoc\n",
            "✅ Found: ./cm/your_api_call.adoc\n",
            "✅ Found: ./cm/wf_onprem_ontap_create_vol_nfs.adoc\n",
            "✅ Found: ./cm/wf_aws_cloud_md_get_key_pairs.adoc\n",
            "✅ Found: ./cm/wf_aws_ontap_create_quote.adoc\n",
            "✅ Found: ./cm/wf_common_ontap_repl_delete_repl.adoc\n",
            "✅ Found: ./cm/wf_gcp_cloud_create_we_paygo.adoc\n",
            "✅ Found: ./cm/wf_gcp_ontap_create_cifs.adoc\n",
            "✅ Found: ./cm/wf_common_ontap_md_get_snapmirror_svm_policies.adoc\n",
            "✅ Found: ./cm/wf_gcp_cloud_md_get_zones.adoc\n",
            "✅ Found: ./cm/wf_gcp_cloud_create_we_byol.adoc\n",
            "✅ Found: ./support/additional_resources.adoc\n",
            "✅ Found: ./automate/overview.adoc\n",
            "✅ Found: ./automate/blogs.adoc\n",
            "✅ Found: ./platform/additional_considerations.adoc\n",
            "✅ Found: ./platform/register_service.adoc\n",
            "✅ Found: ./platform/connectors_clients.adoc\n",
            "✅ Found: ./platform/get_identifiers.adoc\n",
            "✅ Found: ./platform/overview.adoc\n",
            "✅ Found: ./platform/api_explorer.adoc\n",
            "✅ Found: ./platform/create_user_token.adoc\n",
            "✅ Found: ./platform/concepts.adoc\n",
            "✅ Found: ./platform/workflows_tasks.adoc\n",
            "✅ Found: ./platform/use_rest_apis.adoc\n",
            "✅ Found: ./platform/grant_types.adoc\n",
            "✅ Found: ./platform/create_service_token.adoc\n",
            "✅ Found: ./platform/get_nss_key.adoc\n",
            "✅ Found: ./platform/aa_concepts.adoc\n",
            "✅ Found: ./platform/http_details.adoc\n",
            "✅ Found: ./platform/user_access_tokens.adoc\n",
            "\n",
            "Total .adoc files found: 158\n",
            "\n",
            "Total .adoc files found: 158\n"
          ]
        }
      ]
    },
    {
      "cell_type": "code",
      "source": [
        "print(len(document_chunks))         # Should be > 0\n",
        "print(document_chunks[:2])          # Preview a few chunks\n"
      ],
      "metadata": {
        "colab": {
          "base_uri": "https://localhost:8080/"
        },
        "id": "bMcQoFHgkHMZ",
        "outputId": "e11a360f-86b7-4501-b415-1d0443cf5ca4"
      },
      "execution_count": null,
      "outputs": [
        {
          "output_type": "stream",
          "name": "stdout",
          "text": [
            "10164\n",
            "['---\\nsidebar: sidebar\\npermalink: legal-notices.html\\nkeywords: copyrights, notice, trademarks, patents, privacy, open source\\nsummary: Legal notices provide access to copyright statements, trademarks, patents, and more.\\n---', '= Legal notices\\n:hardbreaks:\\n:nofooter:\\n:icons: font\\n:linkattrs:\\n:imagesdir: ./media/']\n"
          ]
        }
      ]
    },
    {
      "cell_type": "code",
      "source": [
        "from sentence_transformers import SentenceTransformer\n",
        "\n",
        "model = SentenceTransformer('all-MiniLM-L6-v2')  # Fast + effective\n",
        "embeddings = model.encode(document_chunks, show_progress_bar=True)\n",
        "\n",
        "\n"
      ],
      "metadata": {
        "colab": {
          "base_uri": "https://localhost:8080/",
          "height": 49,
          "referenced_widgets": [
            "b3f606e058ca46859e0eb9145009e6b1",
            "0e6c532b1551404c8b3231cd372ea18b",
            "b0bdbf17259e45cca0a26707cfea0d0f",
            "c45234561d36478798c50fa7ae8aaefc",
            "44fe08719d63441d926136da13beaa10",
            "7fa9dadfe4c94ef788cd5556b9629b69",
            "ac63ba464bb840a8b5694294fc277b89",
            "c1c227ea93804e1bb0bb3198d0a0c6b2",
            "acccedc3f1e24911921543ed3c8acb02",
            "a86798436e134e6dbd4a04c5799f531d",
            "4d42be988a8542aa8f9223d1e7735062"
          ]
        },
        "id": "-aV-FAa9iDX4",
        "outputId": "87f5dfba-edfb-4cc3-c3ed-1f603114582d"
      },
      "execution_count": null,
      "outputs": [
        {
          "output_type": "display_data",
          "data": {
            "text/plain": [
              "Batches:   0%|          | 0/318 [00:00<?, ?it/s]"
            ],
            "application/vnd.jupyter.widget-view+json": {
              "version_major": 2,
              "version_minor": 0,
              "model_id": "b3f606e058ca46859e0eb9145009e6b1"
            }
          },
          "metadata": {}
        }
      ]
    },
    {
      "cell_type": "code",
      "source": [
        "# Convert to NumPy array\n",
        "embedding_matrix = np.array(embeddings)\n",
        "\n",
        "# Check and reshape if needed\n",
        "if len(embedding_matrix.shape) == 1:\n",
        "    embedding_matrix = embedding_matrix.reshape(1, -1)\n",
        "\n",
        "print(\"Embedding matrix shape:\", embedding_matrix.shape)\n",
        "\n",
        "# Now safely create the FAISS index\n",
        "import faiss\n",
        "index = faiss.IndexFlatL2(embedding_matrix.shape[1])\n",
        "index.add(embedding_matrix)\n"
      ],
      "metadata": {
        "colab": {
          "base_uri": "https://localhost:8080/"
        },
        "id": "UJ_24MjejiTG",
        "outputId": "c24d071d-3f95-40b5-99e2-082d6a3ebd78"
      },
      "execution_count": null,
      "outputs": [
        {
          "output_type": "stream",
          "name": "stdout",
          "text": [
            "Embedding matrix shape: (10164, 384)\n"
          ]
        }
      ]
    },
    {
      "cell_type": "code",
      "source": [
        "print(type(embeddings))\n",
        "print(len(embeddings))         # Should match number of chunks\n",
        "print(type(embeddings[0]))     # Should be a list or np.ndarray\n",
        "print(np.array(embeddings).shape)  # Should be (N, D)\n"
      ],
      "metadata": {
        "colab": {
          "base_uri": "https://localhost:8080/"
        },
        "id": "gh1YcmTtj0NV",
        "outputId": "9da6dcd3-76ff-4ea5-f628-1dae903862b9"
      },
      "execution_count": null,
      "outputs": [
        {
          "output_type": "stream",
          "name": "stdout",
          "text": [
            "<class 'numpy.ndarray'>\n",
            "10164\n",
            "<class 'numpy.ndarray'>\n",
            "(10164, 384)\n"
          ]
        }
      ]
    },
    {
      "cell_type": "code",
      "source": [
        "query = \"AWS Status 200\""
      ],
      "metadata": {
        "id": "ejMBQcVriHdb"
      },
      "execution_count": null,
      "outputs": []
    },
    {
      "cell_type": "code",
      "source": [
        "query_embedding = model.encode([query]) #Encode\n"
      ],
      "metadata": {
        "id": "qBKARitGjNLr"
      },
      "execution_count": null,
      "outputs": []
    },
    {
      "cell_type": "code",
      "source": [
        "# Search for the top 5 closest document chunks\n",
        "D, I = index.search(np.array(query_embedding), k=5)\n"
      ],
      "metadata": {
        "id": "hgPxELNAjPoK"
      },
      "execution_count": null,
      "outputs": []
    },
    {
      "cell_type": "code",
      "source": [
        "for rank, idx in enumerate(I[0]):\n",
        "    print(f\"\\n🔹 Match #{rank+1} — Distance: {D[0][rank]:.4f}\")\n",
        "    print(document_chunks[idx][:500])  # Preview first 500 characters"
      ],
      "metadata": {
        "colab": {
          "base_uri": "https://localhost:8080/"
        },
        "id": "JPp5TL8krEAk",
        "outputId": "52aafa70-4297-450b-94b2-797c610be051"
      },
      "execution_count": null,
      "outputs": [
        {
          "output_type": "stream",
          "name": "stdout",
          "text": [
            "\n",
            "🔹 Match #1 — Distance: 0.8525\n",
            "You must have AWS credentials.\n",
            "\n",
            "🔹 Match #2 — Distance: 0.8811\n",
            "==== Updates extra capacity serials\n",
            "----\n",
            "PUT /aws/ha/working-environments/{workingEnvironmentId}/extra-capacity-serials\n",
            "----\n",
            "\n",
            "🔹 Match #3 — Distance: 0.9359\n",
            "Perform the workflow link:wf_aws_cloud_get_wes.html#get-working-environment-for-high-availability-pair[Get working environments] and choose the `publicId` and the `svmName` values for the `workingEnvironmentId` (working environment) and the `svmName` (SVM name) parameters. From the `capacityFeatures` field in the response, choose the value of `s3` for the `capacityTier` parameter.\n",
            "\n",
            "🔹 Match #4 — Distance: 0.9380\n",
            "Perform the workflow link:wf_aws_cloud_get_wes.html#get-working-environments-for-high-availability-pair[Get working environments] and choose the `publicId` and the `svmName` values for the `workingEnvironmentId`  and the `svmName` parameters. From the `capacityFeatures` field in the response, choose the value of `s3` for the `capacityTier` parameter.\n",
            "\n",
            "🔹 Match #5 — Distance: 0.9629\n",
            "Perform the workflow link:wf_aws_cloud_get_wes.html#get-working-environments-for-high-availability-pair[Get working environments] and choose the `publicId` value for the `workingEnvironmentId` parameter and the `svmName` value for the `svmName` parameter. From the `capacityFeatures` field in the response, choose the value of `s3` for the `capacityTier` parameter.\n"
          ]
        }
      ]
    }
  ]
}