{
  "nbformat": 4,
  "nbformat_minor": 0,
  "metadata": {
    "colab": {
      "provenance": []
    },
    "kernelspec": {
      "name": "python3",
      "display_name": "Python 3"
    },
    "language_info": {
      "name": "python"
    }
  },
  "cells": [
    {
      "cell_type": "code",
      "execution_count": null,
      "metadata": {
        "colab": {
          "base_uri": "https://localhost:8080/"
        },
        "id": "bmIuUoZaDQYR",
        "outputId": "f91536df-9d6f-453f-bfe6-9be7a336a407"
      },
      "outputs": [
        {
          "output_type": "stream",
          "name": "stdout",
          "text": [
            "Cloning into 'bluexp-automation'...\n",
            "remote: Enumerating objects: 5063, done.\u001b[K\n",
            "remote: Counting objects: 100% (694/694), done.\u001b[K\n",
            "remote: Compressing objects: 100% (321/321), done.\u001b[K\n",
            "remote: Total 5063 (delta 432), reused 549 (delta 369), pack-reused 4369 (from 1)\u001b[K\n",
            "Receiving objects: 100% (5063/5063), 2.78 MiB | 6.62 MiB/s, done.\n",
            "Resolving deltas: 100% (3425/3425), done.\n"
          ]
        }
      ],
      "source": [
        "!git clone https://github.com/NetAppDocs/bluexp-automation.git\n"
      ]
    },
    {
      "cell_type": "code",
      "source": [
        "cd bluexp-automation\n"
      ],
      "metadata": {
        "colab": {
          "base_uri": "https://localhost:8080/"
        },
        "id": "mNQTuc6kDdCX",
        "outputId": "e7f638d2-5891-40bc-857f-2831b5b873a5"
      },
      "execution_count": null,
      "outputs": [
        {
          "output_type": "stream",
          "name": "stdout",
          "text": [
            "/content/bluexp-automation\n"
          ]
        }
      ]
    },
    {
      "cell_type": "code",
      "source": [
        "!pip install faiss-cpu"
      ],
      "metadata": {
        "colab": {
          "base_uri": "https://localhost:8080/"
        },
        "id": "azHfme5Xiv1E",
        "outputId": "1e010a0d-4fc8-4e6c-a276-d006e168c4df"
      },
      "execution_count": null,
      "outputs": [
        {
          "output_type": "stream",
          "name": "stdout",
          "text": [
            "Collecting faiss-cpu\n",
            "  Downloading faiss_cpu-1.11.0-cp311-cp311-manylinux_2_28_x86_64.whl.metadata (4.8 kB)\n",
            "Requirement already satisfied: numpy<3.0,>=1.25.0 in /usr/local/lib/python3.11/dist-packages (from faiss-cpu) (2.0.2)\n",
            "Requirement already satisfied: packaging in /usr/local/lib/python3.11/dist-packages (from faiss-cpu) (24.2)\n",
            "Downloading faiss_cpu-1.11.0-cp311-cp311-manylinux_2_28_x86_64.whl (31.3 MB)\n",
            "\u001b[2K   \u001b[90m\u2501\u2501\u2501\u2501\u2501\u2501\u2501\u2501\u2501\u2501\u2501\u2501\u2501\u2501\u2501\u2501\u2501\u2501\u2501\u2501\u2501\u2501\u2501\u2501\u2501\u2501\u2501\u2501\u2501\u2501\u2501\u2501\u2501\u2501\u2501\u2501\u2501\u2501\u2501\u2501\u001b[0m \u001b[32m31.3/31.3 MB\u001b[0m \u001b[31m57.7 MB/s\u001b[0m eta \u001b[36m0:00:00\u001b[0m\n",
            "\u001b[?25hInstalling collected packages: faiss-cpu\n",
            "Successfully installed faiss-cpu-1.11.0\n"
          ]
        }
      ]
    },
    {
      "cell_type": "code",
      "source": [
        "!find . -type f -name \"*.adoc\" | wc -l\n"
      ],
      "metadata": {
        "colab": {
          "base_uri": "https://localhost:8080/"
        },
        "id": "yvGo9xhADgAW",
        "outputId": "df6adaa5-5db8-4267-f202-0cb858626a3d"
      },
      "execution_count": null,
      "outputs": [
        {
          "output_type": "stream",
          "name": "stdout",
          "text": [
            "158\n"
          ]
        }
      ]
    },
    {
      "cell_type": "code",
      "source": [
        "import os\n",
        "print(os.getcwd())\n"
      ],
      "metadata": {
        "colab": {
          "base_uri": "https://localhost:8080/"
        },
        "id": "FyrnG7Knkz6r",
        "outputId": "07dbc418-6a75-4bd1-96db-9801eaed9205"
      },
      "execution_count": null,
      "outputs": [
        {
          "output_type": "stream",
          "name": "stdout",
          "text": [
            "/content/bluexp-automation\n"
          ]
        }
      ]
    },
    {
      "cell_type": "code",
      "source": [
        "!find . -name \"*.adoc\""
      ],
      "metadata": {
        "colab": {
          "base_uri": "https://localhost:8080/"
        },
        "id": "E8b9CIzWk3RT",
        "outputId": "da06ace5-1720-4966-bb65-b0247fd54918"
      },
      "execution_count": null,
      "outputs": [
        {
          "output_type": "stream",
          "name": "stdout",
          "text": [
            "./cm/wf_common_ontap_repl_get_rel_status.adoc\n",
            "./cm/wf_gcp_cloud_md_get_vpcs.adoc\n",
            "./cm/wf_aws_ontap_modify_volume.adoc\n",
            "./cm/wf_common_identity_get_supported_srv.adoc\n",
            "./cm/wf_azure_cloud_delete_we.adoc\n",
            "./cm/wf_aws_ontap_add_disks_aggr.adoc\n",
            "./cm/wf_aws_cloud_md_create_account.adoc\n",
            "./cm/wf_common_ontap_repl_get_rel_we_status.adoc\n",
            "./cm/prepare.adoc\n",
            "./cm/wf_gcp_cloud_md_get_projects.adoc\n",
            "./cm/wf_onprem_get_wes.adoc\n",
            "./cm/wf_gcp_cloud_md_get_disk_types.adoc\n",
            "./cm/wf_cvo_before.adoc\n",
            "./cm/wf_aws_ontap_create_vol_cifs.adoc\n",
            "./cm/wf_aws_ontap_delete_cifs.adoc\n",
            "./cm/wf_azure_ontap_delete_cifs.adoc\n",
            "./cm/api_ref_resources.adoc\n",
            "./cm/wf_azure_ontap_create_cifs.adoc\n",
            "./cm/wf_onprem_ontap_delete_volume.adoc\n",
            "./cm/wf_common_identity_get_nss_key.adoc\n",
            "./cm/wf_azure_cloud_md_create_account.adoc\n",
            "./cm/api_reference.adoc\n",
            "./cm/wf_azure_cloud_md_get_vnets.adoc\n",
            "./cm/wf_aws_ontap_get_volumes.adoc\n",
            "./cm/cvo_deployment.adoc\n",
            "./cm/wf_azure_cloud_md_get_permutations.adoc\n",
            "./cm/wf_gcp_cloud_get_wes.adoc\n",
            "./cm/wf_gcp_ontap_modify_volume.adoc\n",
            "./cm/wf_aws_cloud_md_get_regions.adoc\n",
            "./cm/wf_gcp_ontap_get_aggrs.adoc\n",
            "./cm/wf_gcp_cloud_md_get_supported_tiers.adoc\n",
            "./cm/wf_aws_ontap_create_vol_nfs.adoc\n",
            "./cm/workflow_processes.adoc\n",
            "./cm/wf_gcp_cloud_md_get_regions.adoc\n",
            "./cm/wf_common_ontap_repl_create_repl.adoc\n",
            "./cm/wf_aws_cloud_add_capacity.adoc\n",
            "./cm/wf_azure_ontap_get_cifs.adoc\n",
            "./cm/wf_common_ontap_md_get_snapmirror_policies.adoc\n",
            "./cm/wf_common_identity_get_tenants.adoc\n",
            "./cm/wf_gcp_ontap_delete_aggr.adoc\n",
            "./cm/wf_azure_ontap_delete_aggr.adoc\n",
            "./cm/wf_azure_ontap_create_vol_cifs.adoc\n",
            "./cm/api_ref_definitions.adoc\n",
            "./cm/wf_common_occm_get_task.adoc\n",
            "./cm/wf_azure_ontap_get_igroups.adoc\n",
            "./cm/wf_aws_cloud_delete_we.adoc\n",
            "./cm/wf_gcp_cloud_create_we_capacity.adoc\n",
            "./cm/wf_common_ontap_repl_get_sm_rels.adoc\n",
            "./cm/wf_onprem_ontap_get_aggrs.adoc\n",
            "./cm/wf_aws_cloud_md_get_vpcs.adoc\n",
            "./cm/wf_onprem_before.adoc\n",
            "./cm/wf_gcp_ontap_create_vol_cifs.adoc\n",
            "./cm/wf_gcp_ontap_create_vol_nfs.adoc\n",
            "./cm/wf_azure_ontap_add_disks_aggr.adoc\n",
            "./cm/overview.adoc\n",
            "./cm/wf_onprem_ontap_get_volumes.adoc\n",
            "./cm/wf_gcp_cloud_md_snapshot_policies.adoc\n",
            "./cm/wf_aws_cloud_md_get_packages.adoc\n",
            "./cm/wf_gcp_ontap_create_vol_iscsi.adoc\n",
            "./cm/wf_azure_cloud_md_get_regions.adoc\n",
            "./cm/wf_gcp_cloud_delete_we.adoc\n",
            "./cm/wf_azure_ontap_create_aggr.adoc\n",
            "./cm/wf_common_occm_attach_subscription.adoc\n",
            "./cm/wf_aws_ontap_get_aggrs.adoc\n",
            "./cm/wf_aws_cloud_create_we_capacity.adoc\n",
            "./cm/wf_gcp_ontap_get_volumes.adoc\n",
            "./cm/wf_aws_ontap_delete_aggr.adoc\n",
            "./cm/wf_gcp_cloud_md_get_packages.adoc\n",
            "./cm/wf_azure_ontap_modify_volume.adoc\n",
            "./cm/wf_aws_ontap_get_igroups.adoc\n",
            "./cm/wf_gcp_cloud_md_get_permutations.adoc\n",
            "./cm/wf_azure_cloud_md_get_availability_zones.adoc\n",
            "./cm/wf_aws_ontap_create_cifs.adoc\n",
            "./cm/wf_aws_cloud_md_get_permutations.adoc\n",
            "./cm/wf_onprem_ontap_get_cifs.adoc\n",
            "./cm/wf_gcp_ontap_create_aggr.adoc\n",
            "./cm/wf_azure_ontap_create_vol_nfs.adoc\n",
            "./cm/wf_gcp_ontap_create_quote.adoc\n",
            "./cm/wf_gcp_ontap_get_igroups.adoc\n",
            "./cm/wf_aws_ontap_create_vol_iscsi.adoc\n",
            "./cm/wf_common_ontap_repl_get_we_schedules.adoc\n",
            "./cm/wf_azure_ontap_create_vol_iscsi.adoc\n",
            "./cm/wf_azure_ontap_create_quote.adoc\n",
            "./cm/wf_gcp_cloud_md_get_encryption_keys.adoc\n",
            "./cm/security.adoc\n",
            "./cm/wf_gcp_ontap_delete_volume.adoc\n",
            "./cm/wf_onprem_ontap_create_vol_cifs.adoc\n",
            "./cm/wf_gcp_cloud_md_get_network_requirements.adoc\n",
            "./cm/wf_azure_cloud_create_we_byol.adoc\n",
            "./cm/wf_common_identity_delete_nss_key.adoc\n",
            "./cm/wf_common_identity_create_nss_key.adoc\n",
            "./cm/wf_azure_ontap_delete_volume.adoc\n",
            "./cm/wf_common_before.adoc\n",
            "./cm/wf_aws_cloud_md_get_ebs_vol_types.adoc\n",
            "./cm/wf_azure_ontap_get_aggrs.adoc\n",
            "./cm/wf_azure_cloud_get_wes.adoc\n",
            "./cm/wf_aws_cloud_create_we_byol.adoc\n",
            "./cm/wf_onprem_ontap_modify_volume.adoc\n",
            "./cm/wf_common_ontap_repl_get_ic_lifs.adoc\n",
            "./cm/wf_common_identity_get_accounts.adoc\n",
            "./cm/wf_onprem_ontap_create_vol_iscsi.adoc\n",
            "./cm/wf_common_identity_get_nss_keys.adoc\n",
            "./cm/wf_common_ontap_repl_update_repl.adoc\n",
            "./cm/wf_azure_cloud_md_get_packages.adoc\n",
            "./cm/wf_azure_cloud_create_we_capacity.adoc\n",
            "./cm/wf_gcp_cloud_md_get_instance_type_nosupport.adoc\n",
            "./cm/wf_gcp_ontap_get_cifs.adoc\n",
            "./cm/wf_gcp_ontap_delete_cifs.adoc\n",
            "./cm/wf_common_identity_get_saas_mp.adoc\n",
            "./cm/wf_gcp_cloud_md_get_tag_keys.adoc\n",
            "./cm/wf_azure_ontap_get_volumes.adoc\n",
            "./cm/wf_aws_cloud_create_we_paygo.adoc\n",
            "./cm/wf_gcp_cloud_md_create_buckets.adoc\n",
            "./cm/wf_azure_cloud_md_get_storage_account_types.adoc\n",
            "./cm/wf_gcp_cloud_md_get_buckets.adoc\n",
            "./cm/wf_gcp_cloud_md_get_service_accounts.adoc\n",
            "./cm/wf_onprem_discover_wes.adoc\n",
            "./cm/wf_aws_cloud_md_get_route_tables.adoc\n",
            "./cm/wf_aws_cloud_get_wes.adoc\n",
            "./cm/wf_gcp_cloud_md_get_supported_features.adoc\n",
            "./cm/wf_aws_ontap_create_aggr.adoc\n",
            "./cm/wf_aws_ontap_delete_volume.adoc\n",
            "./cm/wf_azuregcp_ontap_create_aggr.adoc\n",
            "./cm/wf_gcp_ontap_add_disks_aggr.adoc\n",
            "./cm/wf_aws_ontap_get_cifs.adoc\n",
            "./cm/wf_azure_cloud_create_we_paygo.adoc\n",
            "./cm/wf_common_identity_get_provider_accounts.adoc\n",
            "./cm/wf_onprem_flexgroup_ontap_create_vol.adoc\n",
            "./cm/your_api_call.adoc\n",
            "./cm/wf_onprem_ontap_create_vol_nfs.adoc\n",
            "./cm/wf_aws_cloud_md_get_key_pairs.adoc\n",
            "./cm/wf_aws_ontap_create_quote.adoc\n",
            "./cm/wf_common_ontap_repl_delete_repl.adoc\n",
            "./cm/wf_gcp_cloud_create_we_paygo.adoc\n",
            "./cm/wf_gcp_ontap_create_cifs.adoc\n",
            "./cm/wf_common_ontap_md_get_snapmirror_svm_policies.adoc\n",
            "./cm/wf_gcp_cloud_md_get_zones.adoc\n",
            "./cm/wf_gcp_cloud_create_we_byol.adoc\n",
            "./support/additional_resources.adoc\n",
            "./automate/overview.adoc\n",
            "./automate/blogs.adoc\n",
            "./platform/additional_considerations.adoc\n",
            "./platform/register_service.adoc\n",
            "./platform/connectors_clients.adoc\n",
            "./platform/get_identifiers.adoc\n",
            "./platform/overview.adoc\n",
            "./platform/api_explorer.adoc\n",
            "./platform/create_user_token.adoc\n",
            "./platform/concepts.adoc\n",
            "./platform/workflows_tasks.adoc\n",
            "./platform/use_rest_apis.adoc\n",
            "./platform/grant_types.adoc\n",
            "./platform/create_service_token.adoc\n",
            "./platform/get_nss_key.adoc\n",
            "./platform/aa_concepts.adoc\n",
            "./platform/http_details.adoc\n",
            "./platform/user_access_tokens.adoc\n",
            "./legal-notices.adoc\n"
          ]
        }
      ]
    },
    {
      "cell_type": "code",
      "source": [
        "import os\n",
        "import faiss\n",
        "import numpy as np"
      ],
      "metadata": {
        "id": "fySvxhUXidcx"
      },
      "execution_count": null,
      "outputs": []
    },
    {
      "cell_type": "code",
      "source": [
        "\n",
        "# Step 1: Collect .adoc files\n",
        "adoc_files = []\n",
        "adoc_count = 0\n",
        "\n",
        "for root, dirs, files in os.walk(\".\"):\n",
        "    for file in files:\n",
        "        if file.endswith(\".adoc\"):\n",
        "            adoc_count += 1\n",
        "            path = os.path.join(root, file)\n",
        "            adoc_files.append(path)\n",
        "            print(\"\u2705 Found:\", path)\n",
        "\n",
        "print(f\"\\nTotal .adoc files found: {adoc_count}\")\n",
        "print(f\"\\nTotal .adoc files found: {adoc_count}\")\n",
        "# Step 2: Read and chunk text\n",
        "document_chunks = []\n",
        "for filepath in adoc_files:\n",
        "    with open(filepath, 'r', encoding='utf-8', errors='ignore') as f:\n",
        "        content = f.read()\n",
        "        # Basic chunking by paragraphs (or customize as needed)\n",
        "        chunks = content.split('\\n\\n')  # you could also use spaCy for sentence chunking\n",
        "        document_chunks.extend([chunk.strip() for chunk in chunks if chunk.strip()])\n"
      ],
      "metadata": {
        "colab": {
          "base_uri": "https://localhost:8080/"
        },
        "id": "RHtPOyC8ia7t",
        "outputId": "affd7e44-b596-4edb-dec9-a0b5cfc243f9"
      },
      "execution_count": null,
      "outputs": [
        {
          "output_type": "stream",
          "name": "stdout",
          "text": [
            "\u2705 Found: ./legal-notices.adoc\n",
            "\u2705 Found: ./cm/wf_common_ontap_repl_get_rel_status.adoc\n",
            "\u2705 Found: ./cm/wf_gcp_cloud_md_get_vpcs.adoc\n",
            "\u2705 Found: ./cm/wf_aws_ontap_modify_volume.adoc\n",
            "\u2705 Found: ./cm/wf_common_identity_get_supported_srv.adoc\n",
            "\u2705 Found: ./cm/wf_azure_cloud_delete_we.adoc\n",
            "\u2705 Found: ./cm/wf_aws_ontap_add_disks_aggr.adoc\n",
            "\u2705 Found: ./cm/wf_aws_cloud_md_create_account.adoc\n",
            "\u2705 Found: ./cm/wf_common_ontap_repl_get_rel_we_status.adoc\n",
            "\u2705 Found: ./cm/prepare.adoc\n",
            "\u2705 Found: ./cm/wf_gcp_cloud_md_get_projects.adoc\n",
            "\u2705 Found: ./cm/wf_onprem_get_wes.adoc\n",
            "\u2705 Found: ./cm/wf_gcp_cloud_md_get_disk_types.adoc\n",
            "\u2705 Found: ./cm/wf_cvo_before.adoc\n",
            "\u2705 Found: ./cm/wf_aws_ontap_create_vol_cifs.adoc\n",
            "\u2705 Found: ./cm/wf_aws_ontap_delete_cifs.adoc\n",
            "\u2705 Found: ./cm/wf_azure_ontap_delete_cifs.adoc\n",
            "\u2705 Found: ./cm/api_ref_resources.adoc\n",
            "\u2705 Found: ./cm/wf_azure_ontap_create_cifs.adoc\n",
            "\u2705 Found: ./cm/wf_onprem_ontap_delete_volume.adoc\n",
            "\u2705 Found: ./cm/wf_common_identity_get_nss_key.adoc\n",
            "\u2705 Found: ./cm/wf_azure_cloud_md_create_account.adoc\n",
            "\u2705 Found: ./cm/api_reference.adoc\n",
            "\u2705 Found: ./cm/wf_azure_cloud_md_get_vnets.adoc\n",
            "\u2705 Found: ./cm/wf_aws_ontap_get_volumes.adoc\n",
            "\u2705 Found: ./cm/cvo_deployment.adoc\n",
            "\u2705 Found: ./cm/wf_azure_cloud_md_get_permutations.adoc\n",
            "\u2705 Found: ./cm/wf_gcp_cloud_get_wes.adoc\n",
            "\u2705 Found: ./cm/wf_gcp_ontap_modify_volume.adoc\n",
            "\u2705 Found: ./cm/wf_aws_cloud_md_get_regions.adoc\n",
            "\u2705 Found: ./cm/wf_gcp_ontap_get_aggrs.adoc\n",
            "\u2705 Found: ./cm/wf_gcp_cloud_md_get_supported_tiers.adoc\n",
            "\u2705 Found: ./cm/wf_aws_ontap_create_vol_nfs.adoc\n",
            "\u2705 Found: ./cm/workflow_processes.adoc\n",
            "\u2705 Found: ./cm/wf_gcp_cloud_md_get_regions.adoc\n",
            "\u2705 Found: ./cm/wf_common_ontap_repl_create_repl.adoc\n",
            "\u2705 Found: ./cm/wf_aws_cloud_add_capacity.adoc\n",
            "\u2705 Found: ./cm/wf_azure_ontap_get_cifs.adoc\n",
            "\u2705 Found: ./cm/wf_common_ontap_md_get_snapmirror_policies.adoc\n",
            "\u2705 Found: ./cm/wf_common_identity_get_tenants.adoc\n",
            "\u2705 Found: ./cm/wf_gcp_ontap_delete_aggr.adoc\n",
            "\u2705 Found: ./cm/wf_azure_ontap_delete_aggr.adoc\n",
            "\u2705 Found: ./cm/wf_azure_ontap_create_vol_cifs.adoc\n",
            "\u2705 Found: ./cm/api_ref_definitions.adoc\n",
            "\u2705 Found: ./cm/wf_common_occm_get_task.adoc\n",
            "\u2705 Found: ./cm/wf_azure_ontap_get_igroups.adoc\n",
            "\u2705 Found: ./cm/wf_aws_cloud_delete_we.adoc\n",
            "\u2705 Found: ./cm/wf_gcp_cloud_create_we_capacity.adoc\n",
            "\u2705 Found: ./cm/wf_common_ontap_repl_get_sm_rels.adoc\n",
            "\u2705 Found: ./cm/wf_onprem_ontap_get_aggrs.adoc\n",
            "\u2705 Found: ./cm/wf_aws_cloud_md_get_vpcs.adoc\n",
            "\u2705 Found: ./cm/wf_onprem_before.adoc\n",
            "\u2705 Found: ./cm/wf_gcp_ontap_create_vol_cifs.adoc\n",
            "\u2705 Found: ./cm/wf_gcp_ontap_create_vol_nfs.adoc\n",
            "\u2705 Found: ./cm/wf_azure_ontap_add_disks_aggr.adoc\n",
            "\u2705 Found: ./cm/overview.adoc\n",
            "\u2705 Found: ./cm/wf_onprem_ontap_get_volumes.adoc\n",
            "\u2705 Found: ./cm/wf_gcp_cloud_md_snapshot_policies.adoc\n",
            "\u2705 Found: ./cm/wf_aws_cloud_md_get_packages.adoc\n",
            "\u2705 Found: ./cm/wf_gcp_ontap_create_vol_iscsi.adoc\n",
            "\u2705 Found: ./cm/wf_azure_cloud_md_get_regions.adoc\n",
            "\u2705 Found: ./cm/wf_gcp_cloud_delete_we.adoc\n",
            "\u2705 Found: ./cm/wf_azure_ontap_create_aggr.adoc\n",
            "\u2705 Found: ./cm/wf_common_occm_attach_subscription.adoc\n",
            "\u2705 Found: ./cm/wf_aws_ontap_get_aggrs.adoc\n",
            "\u2705 Found: ./cm/wf_aws_cloud_create_we_capacity.adoc\n",
            "\u2705 Found: ./cm/wf_gcp_ontap_get_volumes.adoc\n",
            "\u2705 Found: ./cm/wf_aws_ontap_delete_aggr.adoc\n",
            "\u2705 Found: ./cm/wf_gcp_cloud_md_get_packages.adoc\n",
            "\u2705 Found: ./cm/wf_azure_ontap_modify_volume.adoc\n",
            "\u2705 Found: ./cm/wf_aws_ontap_get_igroups.adoc\n",
            "\u2705 Found: ./cm/wf_gcp_cloud_md_get_permutations.adoc\n",
            "\u2705 Found: ./cm/wf_azure_cloud_md_get_availability_zones.adoc\n",
            "\u2705 Found: ./cm/wf_aws_ontap_create_cifs.adoc\n",
            "\u2705 Found: ./cm/wf_aws_cloud_md_get_permutations.adoc\n",
            "\u2705 Found: ./cm/wf_onprem_ontap_get_cifs.adoc\n",
            "\u2705 Found: ./cm/wf_gcp_ontap_create_aggr.adoc\n",
            "\u2705 Found: ./cm/wf_azure_ontap_create_vol_nfs.adoc\n",
            "\u2705 Found: ./cm/wf_gcp_ontap_create_quote.adoc\n",
            "\u2705 Found: ./cm/wf_gcp_ontap_get_igroups.adoc\n",
            "\u2705 Found: ./cm/wf_aws_ontap_create_vol_iscsi.adoc\n",
            "\u2705 Found: ./cm/wf_common_ontap_repl_get_we_schedules.adoc\n",
            "\u2705 Found: ./cm/wf_azure_ontap_create_vol_iscsi.adoc\n",
            "\u2705 Found: ./cm/wf_azure_ontap_create_quote.adoc\n",
            "\u2705 Found: ./cm/wf_gcp_cloud_md_get_encryption_keys.adoc\n",
            "\u2705 Found: ./cm/security.adoc\n",
            "\u2705 Found: ./cm/wf_gcp_ontap_delete_volume.adoc\n",
            "\u2705 Found: ./cm/wf_onprem_ontap_create_vol_cifs.adoc\n",
            "\u2705 Found: ./cm/wf_gcp_cloud_md_get_network_requirements.adoc\n",
            "\u2705 Found: ./cm/wf_azure_cloud_create_we_byol.adoc\n",
            "\u2705 Found: ./cm/wf_common_identity_delete_nss_key.adoc\n",
            "\u2705 Found: ./cm/wf_common_identity_create_nss_key.adoc\n",
            "\u2705 Found: ./cm/wf_azure_ontap_delete_volume.adoc\n",
            "\u2705 Found: ./cm/wf_common_before.adoc\n",
            "\u2705 Found: ./cm/wf_aws_cloud_md_get_ebs_vol_types.adoc\n",
            "\u2705 Found: ./cm/wf_azure_ontap_get_aggrs.adoc\n",
            "\u2705 Found: ./cm/wf_azure_cloud_get_wes.adoc\n",
            "\u2705 Found: ./cm/wf_aws_cloud_create_we_byol.adoc\n",
            "\u2705 Found: ./cm/wf_onprem_ontap_modify_volume.adoc\n",
            "\u2705 Found: ./cm/wf_common_ontap_repl_get_ic_lifs.adoc\n",
            "\u2705 Found: ./cm/wf_common_identity_get_accounts.adoc\n",
            "\u2705 Found: ./cm/wf_onprem_ontap_create_vol_iscsi.adoc\n",
            "\u2705 Found: ./cm/wf_common_identity_get_nss_keys.adoc\n",
            "\u2705 Found: ./cm/wf_common_ontap_repl_update_repl.adoc\n",
            "\u2705 Found: ./cm/wf_azure_cloud_md_get_packages.adoc\n",
            "\u2705 Found: ./cm/wf_azure_cloud_create_we_capacity.adoc\n",
            "\u2705 Found: ./cm/wf_gcp_cloud_md_get_instance_type_nosupport.adoc\n",
            "\u2705 Found: ./cm/wf_gcp_ontap_get_cifs.adoc\n",
            "\u2705 Found: ./cm/wf_gcp_ontap_delete_cifs.adoc\n",
            "\u2705 Found: ./cm/wf_common_identity_get_saas_mp.adoc\n",
            "\u2705 Found: ./cm/wf_gcp_cloud_md_get_tag_keys.adoc\n",
            "\u2705 Found: ./cm/wf_azure_ontap_get_volumes.adoc\n",
            "\u2705 Found: ./cm/wf_aws_cloud_create_we_paygo.adoc\n",
            "\u2705 Found: ./cm/wf_gcp_cloud_md_create_buckets.adoc\n",
            "\u2705 Found: ./cm/wf_azure_cloud_md_get_storage_account_types.adoc\n",
            "\u2705 Found: ./cm/wf_gcp_cloud_md_get_buckets.adoc\n",
            "\u2705 Found: ./cm/wf_gcp_cloud_md_get_service_accounts.adoc\n",
            "\u2705 Found: ./cm/wf_onprem_discover_wes.adoc\n",
            "\u2705 Found: ./cm/wf_aws_cloud_md_get_route_tables.adoc\n",
            "\u2705 Found: ./cm/wf_aws_cloud_get_wes.adoc\n",
            "\u2705 Found: ./cm/wf_gcp_cloud_md_get_supported_features.adoc\n",
            "\u2705 Found: ./cm/wf_aws_ontap_create_aggr.adoc\n",
            "\u2705 Found: ./cm/wf_aws_ontap_delete_volume.adoc\n",
            "\u2705 Found: ./cm/wf_azuregcp_ontap_create_aggr.adoc\n",
            "\u2705 Found: ./cm/wf_gcp_ontap_add_disks_aggr.adoc\n",
            "\u2705 Found: ./cm/wf_aws_ontap_get_cifs.adoc\n",
            "\u2705 Found: ./cm/wf_azure_cloud_create_we_paygo.adoc\n",
            "\u2705 Found: ./cm/wf_common_identity_get_provider_accounts.adoc\n",
            "\u2705 Found: ./cm/wf_onprem_flexgroup_ontap_create_vol.adoc\n",
            "\u2705 Found: ./cm/your_api_call.adoc\n",
            "\u2705 Found: ./cm/wf_onprem_ontap_create_vol_nfs.adoc\n",
            "\u2705 Found: ./cm/wf_aws_cloud_md_get_key_pairs.adoc\n",
            "\u2705 Found: ./cm/wf_aws_ontap_create_quote.adoc\n",
            "\u2705 Found: ./cm/wf_common_ontap_repl_delete_repl.adoc\n",
            "\u2705 Found: ./cm/wf_gcp_cloud_create_we_paygo.adoc\n",
            "\u2705 Found: ./cm/wf_gcp_ontap_create_cifs.adoc\n",
            "\u2705 Found: ./cm/wf_common_ontap_md_get_snapmirror_svm_policies.adoc\n",
            "\u2705 Found: ./cm/wf_gcp_cloud_md_get_zones.adoc\n",
            "\u2705 Found: ./cm/wf_gcp_cloud_create_we_byol.adoc\n",
            "\u2705 Found: ./support/additional_resources.adoc\n",
            "\u2705 Found: ./automate/overview.adoc\n",
            "\u2705 Found: ./automate/blogs.adoc\n",
            "\u2705 Found: ./platform/additional_considerations.adoc\n",
            "\u2705 Found: ./platform/register_service.adoc\n",
            "\u2705 Found: ./platform/connectors_clients.adoc\n",
            "\u2705 Found: ./platform/get_identifiers.adoc\n",
            "\u2705 Found: ./platform/overview.adoc\n",
            "\u2705 Found: ./platform/api_explorer.adoc\n",
            "\u2705 Found: ./platform/create_user_token.adoc\n",
            "\u2705 Found: ./platform/concepts.adoc\n",
            "\u2705 Found: ./platform/workflows_tasks.adoc\n",
            "\u2705 Found: ./platform/use_rest_apis.adoc\n",
            "\u2705 Found: ./platform/grant_types.adoc\n",
            "\u2705 Found: ./platform/create_service_token.adoc\n",
            "\u2705 Found: ./platform/get_nss_key.adoc\n",
            "\u2705 Found: ./platform/aa_concepts.adoc\n",
            "\u2705 Found: ./platform/http_details.adoc\n",
            "\u2705 Found: ./platform/user_access_tokens.adoc\n",
            "\n",
            "Total .adoc files found: 158\n",
            "\n",
            "Total .adoc files found: 158\n"
          ]
        }
      ]
    },
    {
      "cell_type": "code",
      "source": [
        "print(len(document_chunks))         # Should be > 0\n",
        "print(document_chunks[:2])          # Preview a few chunks\n"
      ],
      "metadata": {
        "colab": {
          "base_uri": "https://localhost:8080/"
        },
        "id": "bMcQoFHgkHMZ",
        "outputId": "e11a360f-86b7-4501-b415-1d0443cf5ca4"
      },
      "execution_count": null,
      "outputs": [
        {
          "output_type": "stream",
          "name": "stdout",
          "text": [
            "10164\n",
            "['---\\nsidebar: sidebar\\npermalink: legal-notices.html\\nkeywords: copyrights, notice, trademarks, patents, privacy, open source\\nsummary: Legal notices provide access to copyright statements, trademarks, patents, and more.\\n---', '= Legal notices\\n:hardbreaks:\\n:nofooter:\\n:icons: font\\n:linkattrs:\\n:imagesdir: ./media/']\n"
          ]
        }
      ]
    },
    {
      "cell_type": "code",
      "source": [
        "from sentence_transformers import SentenceTransformer\n",
        "\n",
        "model = SentenceTransformer('all-MiniLM-L6-v2')  # Fast + effective\n",
        "embeddings = model.encode(document_chunks, show_progress_bar=True)\n",
        "\n",
        "\n"
      ],
      "metadata": {
        "colab": {
          "base_uri": "https://localhost:8080/",
          "height": 49,
          "referenced_widgets": [
            "b3f606e058ca46859e0eb9145009e6b1",
            "0e6c532b1551404c8b3231cd372ea18b",
            "b0bdbf17259e45cca0a26707cfea0d0f",
            "c45234561d36478798c50fa7ae8aaefc",
            "44fe08719d63441d926136da13beaa10",
            "7fa9dadfe4c94ef788cd5556b9629b69",
            "ac63ba464bb840a8b5694294fc277b89",
            "c1c227ea93804e1bb0bb3198d0a0c6b2",
            "acccedc3f1e24911921543ed3c8acb02",
            "a86798436e134e6dbd4a04c5799f531d",
            "4d42be988a8542aa8f9223d1e7735062"
          ]
        },
        "id": "-aV-FAa9iDX4",
        "outputId": "87f5dfba-edfb-4cc3-c3ed-1f603114582d"
      },
      "execution_count": null,
      "outputs": [
        {
          "output_type": "display_data",
          "data": {
            "text/plain": [
              "Batches:   0%|          | 0/318 [00:00<?, ?it/s]"
            ],
            "application/vnd.jupyter.widget-view+json": {
              "version_major": 2,
              "version_minor": 0,
              "model_id": "b3f606e058ca46859e0eb9145009e6b1"
            }
          },
          "metadata": {}
        }
      ]
    },
    {
      "cell_type": "code",
      "source": [
        "# Convert to NumPy array\n",
        "embedding_matrix = np.array(embeddings)\n",
        "\n",
        "# Check and reshape if needed\n",
        "if len(embedding_matrix.shape) == 1:\n",
        "    embedding_matrix = embedding_matrix.reshape(1, -1)\n",
        "\n",
        "print(\"Embedding matrix shape:\", embedding_matrix.shape)\n",
        "\n",
        "# Now safely create the FAISS index\n",
        "import faiss\n",
        "index = faiss.IndexFlatL2(embedding_matrix.shape[1])\n",
        "index.add(embedding_matrix)\n"
      ],
      "metadata": {
        "colab": {
          "base_uri": "https://localhost:8080/"
        },
        "id": "UJ_24MjejiTG",
        "outputId": "c24d071d-3f95-40b5-99e2-082d6a3ebd78"
      },
      "execution_count": null,
      "outputs": [
        {
          "output_type": "stream",
          "name": "stdout",
          "text": [
            "Embedding matrix shape: (10164, 384)\n"
          ]
        }
      ]
    },
    {
      "cell_type": "code",
      "source": [
        "print(type(embeddings))\n",
        "print(len(embeddings))         # Should match number of chunks\n",
        "print(type(embeddings[0]))     # Should be a list or np.ndarray\n",
        "print(np.array(embeddings).shape)  # Should be (N, D)\n"
      ],
      "metadata": {
        "colab": {
          "base_uri": "https://localhost:8080/"
        },
        "id": "gh1YcmTtj0NV",
        "outputId": "9da6dcd3-76ff-4ea5-f628-1dae903862b9"
      },
      "execution_count": null,
      "outputs": [
        {
          "output_type": "stream",
          "name": "stdout",
          "text": [
            "<class 'numpy.ndarray'>\n",
            "10164\n",
            "<class 'numpy.ndarray'>\n",
            "(10164, 384)\n"
          ]
        }
      ]
    },
    {
      "cell_type": "code",
      "source": [
        "query = \"AWS Status 200\""
      ],
      "metadata": {
        "id": "ejMBQcVriHdb"
      },
      "execution_count": null,
      "outputs": []
    },
    {
      "cell_type": "code",
      "source": [
        "query_embedding = model.encode([query]) #Encode\n"
      ],
      "metadata": {
        "id": "qBKARitGjNLr"
      },
      "execution_count": null,
      "outputs": []
    },
    {
      "cell_type": "code",
      "source": [
        "# Search for the top 5 closest document chunks\n",
        "D, I = index.search(np.array(query_embedding), k=5)\n"
      ],
      "metadata": {
        "id": "hgPxELNAjPoK"
      },
      "execution_count": null,
      "outputs": []
    },
    {
      "cell_type": "code",
      "source": [
        "for rank, idx in enumerate(I[0]):\n",
        "    print(f\"\\n\ud83d\udd39 Match #{rank+1} \u2014 Distance: {D[0][rank]:.4f}\")\n",
        "    print(document_chunks[idx][:500])  # Preview first 500 characters"
      ],
      "metadata": {
        "colab": {
          "base_uri": "https://localhost:8080/"
        },
        "id": "JPp5TL8krEAk",
        "outputId": "52aafa70-4297-450b-94b2-797c610be051"
      },
      "execution_count": null,
      "outputs": [
        {
          "output_type": "stream",
          "name": "stdout",
          "text": [
            "\n",
            "\ud83d\udd39 Match #1 \u2014 Distance: 0.8525\n",
            "You must have AWS credentials.\n",
            "\n",
            "\ud83d\udd39 Match #2 \u2014 Distance: 0.8811\n",
            "==== Updates extra capacity serials\n",
            "----\n",
            "PUT /aws/ha/working-environments/{workingEnvironmentId}/extra-capacity-serials\n",
            "----\n",
            "\n",
            "\ud83d\udd39 Match #3 \u2014 Distance: 0.9359\n",
            "Perform the workflow link:wf_aws_cloud_get_wes.html#get-working-environment-for-high-availability-pair[Get working environments] and choose the `publicId` and the `svmName` values for the `workingEnvironmentId` (working environment) and the `svmName` (SVM name) parameters. From the `capacityFeatures` field in the response, choose the value of `s3` for the `capacityTier` parameter.\n",
            "\n",
            "\ud83d\udd39 Match #4 \u2014 Distance: 0.9380\n",
            "Perform the workflow link:wf_aws_cloud_get_wes.html#get-working-environments-for-high-availability-pair[Get working environments] and choose the `publicId` and the `svmName` values for the `workingEnvironmentId`  and the `svmName` parameters. From the `capacityFeatures` field in the response, choose the value of `s3` for the `capacityTier` parameter.\n",
            "\n",
            "\ud83d\udd39 Match #5 \u2014 Distance: 0.9629\n",
            "Perform the workflow link:wf_aws_cloud_get_wes.html#get-working-environments-for-high-availability-pair[Get working environments] and choose the `publicId` value for the `workingEnvironmentId` parameter and the `svmName` value for the `svmName` parameter. From the `capacityFeatures` field in the response, choose the value of `s3` for the `capacityTier` parameter.\n"
          ]
        }
      ]
    }
  ]
}